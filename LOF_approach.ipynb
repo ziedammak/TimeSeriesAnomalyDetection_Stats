{
  "cells": [
    {
      "cell_type": "markdown",
      "source": [
        "This notebook could be directly excuted in google colab. The location should fit to the path variable."
      ],
      "metadata": {
        "id": "1WqRbK-vpeb9"
      }
    },
    {
      "cell_type": "code",
      "execution_count": null,
      "metadata": {
        "id": "lU4iQvNN6aaY"
      },
      "outputs": [],
      "source": [
        "import numpy as np\n",
        "import pandas as pd\n",
        "import datetime as dt\n",
        "import pathlib\n",
        "import tqdm"
      ]
    },
    {
      "cell_type": "code",
      "execution_count": null,
      "metadata": {
        "colab": {
          "base_uri": "https://localhost:8080/"
        },
        "id": "eRoeBFnu6cL5",
        "outputId": "909f02cd-b660-481b-df99-3f858b342dd1"
      },
      "outputs": [
        {
          "name": "stdout",
          "output_type": "stream",
          "text": [
            "Drive already mounted at /content/drive; to attempt to forcibly remount, call drive.mount(\"/content/drive\", force_remount=True).\n"
          ]
        }
      ],
      "source": [
        "from google.colab import drive\n",
        "drive.mount('/content/drive')"
      ]
    },
    {
      "cell_type": "code",
      "execution_count": null,
      "metadata": {
        "id": "7ImSg_gE6dYr"
      },
      "outputs": [],
      "source": [
        "path = pathlib.Path('/content/drive/MyDrive/phase_2')"
      ]
    },
    {
      "cell_type": "code",
      "execution_count": null,
      "metadata": {
        "id": "2dleZbp76fXK"
      },
      "outputs": [],
      "source": [
        "txt_dirpath = path"
      ]
    },
    {
      "cell_type": "code",
      "execution_count": null,
      "metadata": {
        "colab": {
          "base_uri": "https://localhost:8080/",
          "height": 378
        },
        "id": "qTS9Ybj67Jqf",
        "outputId": "9abc44fb-6309-4137-df8e-2d05c7c96de2"
      },
      "outputs": [
        {
          "name": "stdout",
          "output_type": "stream",
          "text": [
            "Processing ./drive/MyDrive/TSB-UAD-main\n",
            "\u001b[33m  DEPRECATION: A future pip version will change local packages to be built in-place without first copying to a temporary directory. We recommend you use --use-feature=in-tree-build to test your packages with this new behavior before it becomes the default.\n",
            "   pip 21.3 will remove support for this functionality. You can find discussion regarding this at https://github.com/pypa/pip/issues/7555.\u001b[0m\n",
            "Building wheels for collected packages: TSB-AD\n",
            "  Building wheel for TSB-AD (setup.py) ... \u001b[?25l\u001b[?25hdone\n",
            "  Created wheel for TSB-AD: filename=TSB_AD-0.1-py3-none-any.whl size=73326 sha256=d0036d4c354f58854a112356c5c7626b74f0476c321fad8ec852dc949ca246f2\n",
            "  Stored in directory: /root/.cache/pip/wheels/03/65/1b/0b7cb07eb6baea2d184373d43168a72a4137916bbd40fecaa0\n",
            "Successfully built TSB-AD\n",
            "Installing collected packages: TSB-AD\n",
            "  Attempting uninstall: TSB-AD\n",
            "    Found existing installation: TSB-AD 0.1\n",
            "    Uninstalling TSB-AD-0.1:\n",
            "      Successfully uninstalled TSB-AD-0.1\n",
            "Successfully installed TSB-AD-0.1\n"
          ]
        },
        {
          "data": {
            "application/vnd.colab-display-data+json": {
              "pip_warning": {
                "packages": [
                  "TSB_AD"
                ]
              }
            }
          },
          "metadata": {},
          "output_type": "display_data"
        }
      ],
      "source": [
        "!pip install /content/drive/MyDrive/TSB-UAD-main"
      ]
    },
    {
      "cell_type": "code",
      "execution_count": null,
      "metadata": {
        "colab": {
          "base_uri": "https://localhost:8080/"
        },
        "id": "lRoON0OY7ZwV",
        "outputId": "427ac8d7-fa66-4273-bda6-d06d920d8798"
      },
      "outputs": [
        {
          "name": "stdout",
          "output_type": "stream",
          "text": [
            "Requirement already satisfied: scikit-learn==0.23 in /usr/local/lib/python3.7/dist-packages (0.23.0)\n",
            "Requirement already satisfied: numpy>=1.13.3 in /usr/local/lib/python3.7/dist-packages (from scikit-learn==0.23) (1.21.5)\n",
            "Requirement already satisfied: joblib>=0.11 in /usr/local/lib/python3.7/dist-packages (from scikit-learn==0.23) (1.1.0)\n",
            "Requirement already satisfied: threadpoolctl>=2.0.0 in /usr/local/lib/python3.7/dist-packages (from scikit-learn==0.23) (3.1.0)\n",
            "Requirement already satisfied: scipy>=0.19.1 in /usr/local/lib/python3.7/dist-packages (from scikit-learn==0.23) (1.7.3)\n"
          ]
        }
      ],
      "source": [
        "!pip install scikit-learn==0.23 "
      ]
    },
    {
      "cell_type": "code",
      "execution_count": null,
      "metadata": {
        "colab": {
          "base_uri": "https://localhost:8080/",
          "height": 1000
        },
        "id": "-tTMuDPX7i3b",
        "outputId": "e68ffd16-1781-4c87-f6e5-4cc4deb5af9d"
      },
      "outputs": [
        {
          "name": "stdout",
          "output_type": "stream",
          "text": [
            "Collecting arch\n",
            "  Downloading arch-5.1.0-cp37-cp37m-manylinux_2_17_x86_64.manylinux2014_x86_64.whl (902 kB)\n",
            "\u001b[K     |████████████████████████████████| 902 kB 5.7 MB/s \n",
            "\u001b[?25hRequirement already satisfied: h5py in /usr/local/lib/python3.7/dist-packages (from -r /content/drive/MyDrive/TSB-UAD-main/requirements.txt (line 2)) (3.1.0)\n",
            "Collecting hurst\n",
            "  Downloading hurst-0.0.5-py3-none-any.whl (5.9 kB)\n",
            "Collecting matrixprofile\n",
            "  Downloading matrixprofile-1.1.10-cp37-cp37m-manylinux2010_x86_64.whl (1.1 MB)\n",
            "\u001b[K     |████████████████████████████████| 1.1 MB 37.6 MB/s \n",
            "\u001b[?25hRequirement already satisfied: networkx==2.6.3 in /usr/local/lib/python3.7/dist-packages (from -r /content/drive/MyDrive/TSB-UAD-main/requirements.txt (line 5)) (2.6.3)\n",
            "Requirement already satisfied: pandas in /usr/local/lib/python3.7/dist-packages (from -r /content/drive/MyDrive/TSB-UAD-main/requirements.txt (line 6)) (1.3.5)\n",
            "Collecting pmdarima\n",
            "  Downloading pmdarima-1.8.4-cp37-cp37m-manylinux_2_17_x86_64.manylinux2014_x86_64.manylinux_2_24_x86_64.whl (1.4 MB)\n",
            "\u001b[K     |████████████████████████████████| 1.4 MB 11.7 MB/s \n",
            "\u001b[?25hRequirement already satisfied: scikit-learn==0.23 in /usr/local/lib/python3.7/dist-packages (from -r /content/drive/MyDrive/TSB-UAD-main/requirements.txt (line 8)) (0.23.0)\n",
            "Requirement already satisfied: scipy in /usr/local/lib/python3.7/dist-packages (from -r /content/drive/MyDrive/TSB-UAD-main/requirements.txt (line 9)) (1.4.1)\n",
            "Collecting six==1.16.0\n",
            "  Downloading six-1.16.0-py2.py3-none-any.whl (11 kB)\n",
            "Requirement already satisfied: statsmodels in /usr/local/lib/python3.7/dist-packages (from -r /content/drive/MyDrive/TSB-UAD-main/requirements.txt (line 11)) (0.10.2)\n",
            "Collecting stumpy\n",
            "  Downloading stumpy-1.10.2-py3-none-any.whl (119 kB)\n",
            "\u001b[K     |████████████████████████████████| 119 kB 18.1 MB/s \n",
            "\u001b[?25hRequirement already satisfied: tensorboard in /usr/local/lib/python3.7/dist-packages (from -r /content/drive/MyDrive/TSB-UAD-main/requirements.txt (line 13)) (2.7.0)\n",
            "Requirement already satisfied: tensorboard-data-server==0.6.1 in /usr/local/lib/python3.7/dist-packages (from -r /content/drive/MyDrive/TSB-UAD-main/requirements.txt (line 14)) (0.6.1)\n",
            "Collecting tensorboard-plugin-wit==1.8.0\n",
            "  Downloading tensorboard_plugin_wit-1.8.0-py3-none-any.whl (781 kB)\n",
            "\u001b[K     |████████████████████████████████| 781 kB 35.4 MB/s \n",
            "\u001b[?25hRequirement already satisfied: tensorflow in /usr/local/lib/python3.7/dist-packages (from -r /content/drive/MyDrive/TSB-UAD-main/requirements.txt (line 16)) (2.7.0)\n",
            "Collecting tensorflow-estimator==2.3.0\n",
            "  Downloading tensorflow_estimator-2.3.0-py2.py3-none-any.whl (459 kB)\n",
            "\u001b[K     |████████████████████████████████| 459 kB 33.9 MB/s \n",
            "\u001b[?25hCollecting tsfresh==0.18.0\n",
            "  Downloading tsfresh-0.18.0-py2.py3-none-any.whl (94 kB)\n",
            "\u001b[K     |████████████████████████████████| 94 kB 2.1 MB/s \n",
            "\u001b[?25hCollecting tslearn==0.5.1.0\n",
            "  Downloading tslearn-0.5.1.0-cp37-cp37m-manylinux_2_5_x86_64.manylinux1_x86_64.manylinux_2_12_x86_64.manylinux2010_x86_64.whl (793 kB)\n",
            "\u001b[K     |████████████████████████████████| 793 kB 72.6 MB/s \n",
            "\u001b[?25hRequirement already satisfied: numpy>=1.13.3 in /usr/local/lib/python3.7/dist-packages (from scikit-learn==0.23->-r /content/drive/MyDrive/TSB-UAD-main/requirements.txt (line 8)) (1.19.5)\n",
            "Requirement already satisfied: threadpoolctl>=2.0.0 in /usr/local/lib/python3.7/dist-packages (from scikit-learn==0.23->-r /content/drive/MyDrive/TSB-UAD-main/requirements.txt (line 8)) (3.1.0)\n",
            "Requirement already satisfied: joblib>=0.11 in /usr/local/lib/python3.7/dist-packages (from scikit-learn==0.23->-r /content/drive/MyDrive/TSB-UAD-main/requirements.txt (line 8)) (1.1.0)\n",
            "Requirement already satisfied: requests>=2.9.1 in /usr/local/lib/python3.7/dist-packages (from tsfresh==0.18.0->-r /content/drive/MyDrive/TSB-UAD-main/requirements.txt (line 18)) (2.23.0)\n",
            "Requirement already satisfied: tqdm>=4.10.0 in /usr/local/lib/python3.7/dist-packages (from tsfresh==0.18.0->-r /content/drive/MyDrive/TSB-UAD-main/requirements.txt (line 18)) (4.62.3)\n",
            "Collecting distributed>=2.11.0\n",
            "  Downloading distributed-2022.1.1-py3-none-any.whl (830 kB)\n",
            "\u001b[K     |████████████████████████████████| 830 kB 46.7 MB/s \n",
            "\u001b[?25hRequirement already satisfied: dask[dataframe]>=2.9.0 in /usr/local/lib/python3.7/dist-packages (from tsfresh==0.18.0->-r /content/drive/MyDrive/TSB-UAD-main/requirements.txt (line 18)) (2.12.0)\n",
            "Requirement already satisfied: patsy>=0.4.1 in /usr/local/lib/python3.7/dist-packages (from tsfresh==0.18.0->-r /content/drive/MyDrive/TSB-UAD-main/requirements.txt (line 18)) (0.5.2)\n",
            "Requirement already satisfied: numba in /usr/local/lib/python3.7/dist-packages (from tslearn==0.5.1.0->-r /content/drive/MyDrive/TSB-UAD-main/requirements.txt (line 19)) (0.51.2)\n",
            "Requirement already satisfied: Cython in /usr/local/lib/python3.7/dist-packages (from tslearn==0.5.1.0->-r /content/drive/MyDrive/TSB-UAD-main/requirements.txt (line 19)) (0.29.27)\n",
            "Requirement already satisfied: matplotlib>=3.0.3 in /usr/local/lib/python3.7/dist-packages (from matrixprofile->-r /content/drive/MyDrive/TSB-UAD-main/requirements.txt (line 4)) (3.2.2)\n",
            "Collecting protobuf==3.11.2\n",
            "  Downloading protobuf-3.11.2-cp37-cp37m-manylinux1_x86_64.whl (1.3 MB)\n",
            "\u001b[K     |████████████████████████████████| 1.3 MB 44.0 MB/s \n",
            "\u001b[?25hRequirement already satisfied: setuptools in /usr/local/lib/python3.7/dist-packages (from protobuf==3.11.2->matrixprofile->-r /content/drive/MyDrive/TSB-UAD-main/requirements.txt (line 4)) (57.4.0)\n",
            "Requirement already satisfied: python-dateutil>=2.7.3 in /usr/local/lib/python3.7/dist-packages (from pandas->-r /content/drive/MyDrive/TSB-UAD-main/requirements.txt (line 6)) (2.8.2)\n",
            "Requirement already satisfied: pytz>=2017.3 in /usr/local/lib/python3.7/dist-packages (from pandas->-r /content/drive/MyDrive/TSB-UAD-main/requirements.txt (line 6)) (2018.9)\n",
            "Collecting scipy\n",
            "  Downloading scipy-1.7.3-cp37-cp37m-manylinux_2_12_x86_64.manylinux2010_x86_64.whl (38.1 MB)\n",
            "\u001b[K     |████████████████████████████████| 38.1 MB 1.6 MB/s \n",
            "\u001b[?25hCollecting fsspec>=0.6.0\n",
            "  Downloading fsspec-2022.1.0-py3-none-any.whl (133 kB)\n",
            "\u001b[K     |████████████████████████████████| 133 kB 43.6 MB/s \n",
            "\u001b[?25hRequirement already satisfied: toolz>=0.7.3 in /usr/local/lib/python3.7/dist-packages (from dask[dataframe]>=2.9.0->tsfresh==0.18.0->-r /content/drive/MyDrive/TSB-UAD-main/requirements.txt (line 18)) (0.11.2)\n",
            "Collecting partd>=0.3.10\n",
            "  Downloading partd-1.2.0-py3-none-any.whl (19 kB)\n",
            "Requirement already satisfied: click>=6.6 in /usr/local/lib/python3.7/dist-packages (from distributed>=2.11.0->tsfresh==0.18.0->-r /content/drive/MyDrive/TSB-UAD-main/requirements.txt (line 18)) (7.1.2)\n",
            "Requirement already satisfied: pyyaml in /usr/local/lib/python3.7/dist-packages (from distributed>=2.11.0->tsfresh==0.18.0->-r /content/drive/MyDrive/TSB-UAD-main/requirements.txt (line 18)) (3.13)\n",
            "Requirement already satisfied: psutil>=5.0 in /usr/local/lib/python3.7/dist-packages (from distributed>=2.11.0->tsfresh==0.18.0->-r /content/drive/MyDrive/TSB-UAD-main/requirements.txt (line 18)) (5.4.8)\n",
            "Requirement already satisfied: jinja2 in /usr/local/lib/python3.7/dist-packages (from distributed>=2.11.0->tsfresh==0.18.0->-r /content/drive/MyDrive/TSB-UAD-main/requirements.txt (line 18)) (2.11.3)\n",
            "Collecting distributed>=2.11.0\n",
            "  Downloading distributed-2022.1.0-py3-none-any.whl (822 kB)\n",
            "\u001b[K     |████████████████████████████████| 822 kB 34.8 MB/s \n",
            "\u001b[?25hRequirement already satisfied: zict>=0.1.3 in /usr/local/lib/python3.7/dist-packages (from distributed>=2.11.0->tsfresh==0.18.0->-r /content/drive/MyDrive/TSB-UAD-main/requirements.txt (line 18)) (2.0.0)\n",
            "Requirement already satisfied: tornado>=5 in /usr/local/lib/python3.7/dist-packages (from distributed>=2.11.0->tsfresh==0.18.0->-r /content/drive/MyDrive/TSB-UAD-main/requirements.txt (line 18)) (5.1.1)\n",
            "Requirement already satisfied: packaging>=20.0 in /usr/local/lib/python3.7/dist-packages (from distributed>=2.11.0->tsfresh==0.18.0->-r /content/drive/MyDrive/TSB-UAD-main/requirements.txt (line 18)) (21.3)\n",
            "Requirement already satisfied: tblib>=1.6.0 in /usr/local/lib/python3.7/dist-packages (from distributed>=2.11.0->tsfresh==0.18.0->-r /content/drive/MyDrive/TSB-UAD-main/requirements.txt (line 18)) (1.7.0)\n",
            "Requirement already satisfied: msgpack>=0.6.0 in /usr/local/lib/python3.7/dist-packages (from distributed>=2.11.0->tsfresh==0.18.0->-r /content/drive/MyDrive/TSB-UAD-main/requirements.txt (line 18)) (1.0.3)\n",
            "  Downloading distributed-2021.12.0-py3-none-any.whl (802 kB)\n",
            "\u001b[K     |████████████████████████████████| 802 kB 44.8 MB/s \n",
            "\u001b[?25h  Downloading distributed-2021.11.2-py3-none-any.whl (802 kB)\n",
            "\u001b[K     |████████████████████████████████| 802 kB 14.6 MB/s \n",
            "\u001b[?25h  Downloading distributed-2021.11.1-py3-none-any.whl (793 kB)\n",
            "\u001b[K     |████████████████████████████████| 793 kB 41.2 MB/s \n",
            "\u001b[?25h  Downloading distributed-2021.11.0-py3-none-any.whl (793 kB)\n",
            "\u001b[K     |████████████████████████████████| 793 kB 50.2 MB/s \n",
            "\u001b[?25hRequirement already satisfied: sortedcontainers!=2.0.0,!=2.0.1 in /usr/local/lib/python3.7/dist-packages (from distributed>=2.11.0->tsfresh==0.18.0->-r /content/drive/MyDrive/TSB-UAD-main/requirements.txt (line 18)) (2.4.0)\n",
            "  Downloading distributed-2021.10.0-py3-none-any.whl (791 kB)\n",
            "\u001b[K     |████████████████████████████████| 791 kB 46.5 MB/s \n",
            "\u001b[?25h  Downloading distributed-2021.9.1-py3-none-any.whl (786 kB)\n",
            "\u001b[K     |████████████████████████████████| 786 kB 38.5 MB/s \n",
            "\u001b[?25hCollecting cloudpickle>=1.5.0\n",
            "  Downloading cloudpickle-2.0.0-py3-none-any.whl (25 kB)\n",
            "Collecting distributed>=2.11.0\n",
            "  Downloading distributed-2021.9.0-py3-none-any.whl (779 kB)\n",
            "\u001b[K     |████████████████████████████████| 779 kB 42.4 MB/s \n",
            "\u001b[?25h  Downloading distributed-2021.8.1-py3-none-any.whl (778 kB)\n",
            "\u001b[K     |████████████████████████████████| 778 kB 4.6 MB/s \n",
            "\u001b[?25h  Downloading distributed-2021.8.0-py3-none-any.whl (776 kB)\n",
            "\u001b[K     |████████████████████████████████| 776 kB 37.5 MB/s \n",
            "\u001b[?25h  Downloading distributed-2021.7.2-py3-none-any.whl (769 kB)\n",
            "\u001b[K     |████████████████████████████████| 769 kB 38.6 MB/s \n",
            "\u001b[?25h  Downloading distributed-2021.7.1-py3-none-any.whl (766 kB)\n",
            "\u001b[K     |████████████████████████████████| 766 kB 54.7 MB/s \n",
            "\u001b[?25h  Downloading distributed-2021.7.0-py3-none-any.whl (1.0 MB)\n",
            "\u001b[K     |████████████████████████████████| 1.0 MB 42.7 MB/s \n",
            "\u001b[?25h  Downloading distributed-2021.6.2-py3-none-any.whl (722 kB)\n",
            "\u001b[K     |████████████████████████████████| 722 kB 41.3 MB/s \n",
            "\u001b[?25h  Downloading distributed-2021.6.1-py3-none-any.whl (722 kB)\n",
            "\u001b[K     |████████████████████████████████| 722 kB 31.3 MB/s \n",
            "\u001b[?25h  Downloading distributed-2021.6.0-py3-none-any.whl (715 kB)\n",
            "\u001b[K     |████████████████████████████████| 715 kB 41.6 MB/s \n",
            "\u001b[?25h  Downloading distributed-2021.5.1-py3-none-any.whl (705 kB)\n",
            "\u001b[K     |████████████████████████████████| 705 kB 46.5 MB/s \n",
            "\u001b[?25h  Downloading distributed-2021.5.0-py3-none-any.whl (699 kB)\n",
            "\u001b[K     |████████████████████████████████| 699 kB 38.9 MB/s \n",
            "\u001b[?25h  Downloading distributed-2021.4.1-py3-none-any.whl (696 kB)\n",
            "\u001b[K     |████████████████████████████████| 696 kB 41.1 MB/s \n",
            "\u001b[?25h  Downloading distributed-2021.4.0-py3-none-any.whl (684 kB)\n",
            "\u001b[K     |████████████████████████████████| 684 kB 54.3 MB/s \n",
            "\u001b[?25h  Downloading distributed-2021.3.1-py3-none-any.whl (679 kB)\n",
            "\u001b[K     |████████████████████████████████| 679 kB 32.8 MB/s \n",
            "\u001b[?25h  Downloading distributed-2021.3.0-py3-none-any.whl (675 kB)\n",
            "\u001b[K     |████████████████████████████████| 675 kB 40.7 MB/s \n",
            "\u001b[?25h  Downloading distributed-2021.2.0-py3-none-any.whl (675 kB)\n",
            "\u001b[K     |████████████████████████████████| 675 kB 42.6 MB/s \n",
            "\u001b[?25h  Downloading distributed-2021.1.1-py3-none-any.whl (672 kB)\n",
            "\u001b[K     |████████████████████████████████| 672 kB 4.2 MB/s \n",
            "\u001b[?25h  Downloading distributed-2021.1.0-py3-none-any.whl (671 kB)\n",
            "\u001b[K     |████████████████████████████████| 671 kB 49.3 MB/s \n",
            "\u001b[?25h  Downloading distributed-2020.12.0-py3-none-any.whl (669 kB)\n",
            "\u001b[K     |████████████████████████████████| 669 kB 53.4 MB/s \n",
            "\u001b[?25h  Downloading distributed-2.30.1-py3-none-any.whl (656 kB)\n",
            "\u001b[K     |████████████████████████████████| 656 kB 49.0 MB/s \n",
            "\u001b[?25hRequirement already satisfied: cycler>=0.10 in /usr/local/lib/python3.7/dist-packages (from matplotlib>=3.0.3->matrixprofile->-r /content/drive/MyDrive/TSB-UAD-main/requirements.txt (line 4)) (0.11.0)\n",
            "Requirement already satisfied: kiwisolver>=1.0.1 in /usr/local/lib/python3.7/dist-packages (from matplotlib>=3.0.3->matrixprofile->-r /content/drive/MyDrive/TSB-UAD-main/requirements.txt (line 4)) (1.3.2)\n",
            "Requirement already satisfied: pyparsing!=2.0.4,!=2.1.2,!=2.1.6,>=2.0.1 in /usr/local/lib/python3.7/dist-packages (from matplotlib>=3.0.3->matrixprofile->-r /content/drive/MyDrive/TSB-UAD-main/requirements.txt (line 4)) (3.0.7)\n",
            "Requirement already satisfied: llvmlite<0.35,>=0.34.0.dev0 in /usr/local/lib/python3.7/dist-packages (from numba->tslearn==0.5.1.0->-r /content/drive/MyDrive/TSB-UAD-main/requirements.txt (line 19)) (0.34.0)\n",
            "Collecting locket\n",
            "  Downloading locket-0.2.1-py2.py3-none-any.whl (4.1 kB)\n",
            "Requirement already satisfied: certifi>=2017.4.17 in /usr/local/lib/python3.7/dist-packages (from requests>=2.9.1->tsfresh==0.18.0->-r /content/drive/MyDrive/TSB-UAD-main/requirements.txt (line 18)) (2021.10.8)\n",
            "Requirement already satisfied: chardet<4,>=3.0.2 in /usr/local/lib/python3.7/dist-packages (from requests>=2.9.1->tsfresh==0.18.0->-r /content/drive/MyDrive/TSB-UAD-main/requirements.txt (line 18)) (3.0.4)\n",
            "Requirement already satisfied: urllib3!=1.25.0,!=1.25.1,<1.26,>=1.21.1 in /usr/local/lib/python3.7/dist-packages (from requests>=2.9.1->tsfresh==0.18.0->-r /content/drive/MyDrive/TSB-UAD-main/requirements.txt (line 18)) (1.24.3)\n",
            "Requirement already satisfied: idna<3,>=2.5 in /usr/local/lib/python3.7/dist-packages (from requests>=2.9.1->tsfresh==0.18.0->-r /content/drive/MyDrive/TSB-UAD-main/requirements.txt (line 18)) (2.10)\n",
            "Requirement already satisfied: heapdict in /usr/local/lib/python3.7/dist-packages (from zict>=0.1.3->distributed>=2.11.0->tsfresh==0.18.0->-r /content/drive/MyDrive/TSB-UAD-main/requirements.txt (line 18)) (1.0.1)\n",
            "Collecting property-cached>=1.6.4\n",
            "  Downloading property_cached-1.6.4-py2.py3-none-any.whl (7.8 kB)\n",
            "Collecting statsmodels\n",
            "  Downloading statsmodels-0.13.1-cp37-cp37m-manylinux_2_17_x86_64.manylinux2014_x86_64.whl (9.8 MB)\n",
            "\u001b[K     |████████████████████████████████| 9.8 MB 42.6 MB/s \n",
            "\u001b[?25hRequirement already satisfied: cached-property in /usr/local/lib/python3.7/dist-packages (from h5py->-r /content/drive/MyDrive/TSB-UAD-main/requirements.txt (line 2)) (1.5.2)\n",
            "Requirement already satisfied: markdown>=2.6.8 in /usr/local/lib/python3.7/dist-packages (from tensorboard->-r /content/drive/MyDrive/TSB-UAD-main/requirements.txt (line 13)) (3.3.6)\n",
            "Requirement already satisfied: werkzeug>=0.11.15 in /usr/local/lib/python3.7/dist-packages (from tensorboard->-r /content/drive/MyDrive/TSB-UAD-main/requirements.txt (line 13)) (1.0.1)\n",
            "Requirement already satisfied: grpcio>=1.24.3 in /usr/local/lib/python3.7/dist-packages (from tensorboard->-r /content/drive/MyDrive/TSB-UAD-main/requirements.txt (line 13)) (1.43.0)\n",
            "Requirement already satisfied: absl-py>=0.4 in /usr/local/lib/python3.7/dist-packages (from tensorboard->-r /content/drive/MyDrive/TSB-UAD-main/requirements.txt (line 13)) (1.0.0)\n",
            "Requirement already satisfied: wheel>=0.26 in /usr/local/lib/python3.7/dist-packages (from tensorboard->-r /content/drive/MyDrive/TSB-UAD-main/requirements.txt (line 13)) (0.37.1)\n",
            "Requirement already satisfied: google-auth<3,>=1.6.3 in /usr/local/lib/python3.7/dist-packages (from tensorboard->-r /content/drive/MyDrive/TSB-UAD-main/requirements.txt (line 13)) (1.35.0)\n",
            "Requirement already satisfied: google-auth-oauthlib<0.5,>=0.4.1 in /usr/local/lib/python3.7/dist-packages (from tensorboard->-r /content/drive/MyDrive/TSB-UAD-main/requirements.txt (line 13)) (0.4.6)\n",
            "Requirement already satisfied: rsa<5,>=3.1.4 in /usr/local/lib/python3.7/dist-packages (from google-auth<3,>=1.6.3->tensorboard->-r /content/drive/MyDrive/TSB-UAD-main/requirements.txt (line 13)) (4.8)\n",
            "Requirement already satisfied: pyasn1-modules>=0.2.1 in /usr/local/lib/python3.7/dist-packages (from google-auth<3,>=1.6.3->tensorboard->-r /content/drive/MyDrive/TSB-UAD-main/requirements.txt (line 13)) (0.2.8)\n",
            "Requirement already satisfied: cachetools<5.0,>=2.0.0 in /usr/local/lib/python3.7/dist-packages (from google-auth<3,>=1.6.3->tensorboard->-r /content/drive/MyDrive/TSB-UAD-main/requirements.txt (line 13)) (4.2.4)\n",
            "Requirement already satisfied: requests-oauthlib>=0.7.0 in /usr/local/lib/python3.7/dist-packages (from google-auth-oauthlib<0.5,>=0.4.1->tensorboard->-r /content/drive/MyDrive/TSB-UAD-main/requirements.txt (line 13)) (1.3.1)\n",
            "Requirement already satisfied: importlib-metadata>=4.4 in /usr/local/lib/python3.7/dist-packages (from markdown>=2.6.8->tensorboard->-r /content/drive/MyDrive/TSB-UAD-main/requirements.txt (line 13)) (4.10.1)\n",
            "Requirement already satisfied: zipp>=0.5 in /usr/local/lib/python3.7/dist-packages (from importlib-metadata>=4.4->markdown>=2.6.8->tensorboard->-r /content/drive/MyDrive/TSB-UAD-main/requirements.txt (line 13)) (3.7.0)\n",
            "Requirement already satisfied: typing-extensions>=3.6.4 in /usr/local/lib/python3.7/dist-packages (from importlib-metadata>=4.4->markdown>=2.6.8->tensorboard->-r /content/drive/MyDrive/TSB-UAD-main/requirements.txt (line 13)) (3.10.0.2)\n",
            "Requirement already satisfied: pyasn1<0.5.0,>=0.4.6 in /usr/local/lib/python3.7/dist-packages (from pyasn1-modules>=0.2.1->google-auth<3,>=1.6.3->tensorboard->-r /content/drive/MyDrive/TSB-UAD-main/requirements.txt (line 13)) (0.4.8)\n",
            "Requirement already satisfied: oauthlib>=3.0.0 in /usr/local/lib/python3.7/dist-packages (from requests-oauthlib>=0.7.0->google-auth-oauthlib<0.5,>=0.4.1->tensorboard->-r /content/drive/MyDrive/TSB-UAD-main/requirements.txt (line 13)) (3.2.0)\n",
            "Collecting tensorflow\n",
            "  Downloading tensorflow-2.8.0-cp37-cp37m-manylinux2010_x86_64.whl (497.5 MB)\n",
            "\u001b[K     |████████████████████████████████| 497.5 MB 23 kB/s \n",
            "\u001b[?25hRequirement already satisfied: keras-preprocessing>=1.1.1 in /usr/local/lib/python3.7/dist-packages (from tensorflow->-r /content/drive/MyDrive/TSB-UAD-main/requirements.txt (line 16)) (1.1.2)\n",
            "Requirement already satisfied: gast>=0.2.1 in /usr/local/lib/python3.7/dist-packages (from tensorflow->-r /content/drive/MyDrive/TSB-UAD-main/requirements.txt (line 16)) (0.4.0)\n",
            "Requirement already satisfied: wrapt>=1.11.0 in /usr/local/lib/python3.7/dist-packages (from tensorflow->-r /content/drive/MyDrive/TSB-UAD-main/requirements.txt (line 16)) (1.13.3)\n",
            "Requirement already satisfied: termcolor>=1.1.0 in /usr/local/lib/python3.7/dist-packages (from tensorflow->-r /content/drive/MyDrive/TSB-UAD-main/requirements.txt (line 16)) (1.1.0)\n",
            "Collecting tensorboard\n",
            "  Downloading tensorboard-2.8.0-py3-none-any.whl (5.8 MB)\n",
            "\u001b[K     |████████████████████████████████| 5.8 MB 52.6 MB/s \n",
            "\u001b[?25hRequirement already satisfied: tensorflow-io-gcs-filesystem>=0.23.1 in /usr/local/lib/python3.7/dist-packages (from tensorflow->-r /content/drive/MyDrive/TSB-UAD-main/requirements.txt (line 16)) (0.23.1)\n",
            "Requirement already satisfied: google-pasta>=0.1.1 in /usr/local/lib/python3.7/dist-packages (from tensorflow->-r /content/drive/MyDrive/TSB-UAD-main/requirements.txt (line 16)) (0.2.0)\n",
            "Requirement already satisfied: libclang>=9.0.1 in /usr/local/lib/python3.7/dist-packages (from tensorflow->-r /content/drive/MyDrive/TSB-UAD-main/requirements.txt (line 16)) (13.0.0)\n",
            "Collecting tf-estimator-nightly==2.8.0.dev2021122109\n",
            "  Downloading tf_estimator_nightly-2.8.0.dev2021122109-py2.py3-none-any.whl (462 kB)\n",
            "\u001b[K     |████████████████████████████████| 462 kB 61.4 MB/s \n",
            "\u001b[?25hCollecting keras<2.9,>=2.8.0rc0\n",
            "  Downloading keras-2.8.0-py2.py3-none-any.whl (1.4 MB)\n",
            "\u001b[K     |████████████████████████████████| 1.4 MB 43.5 MB/s \n",
            "\u001b[?25hRequirement already satisfied: astunparse>=1.6.0 in /usr/local/lib/python3.7/dist-packages (from tensorflow->-r /content/drive/MyDrive/TSB-UAD-main/requirements.txt (line 16)) (1.6.3)\n",
            "Requirement already satisfied: opt-einsum>=2.3.2 in /usr/local/lib/python3.7/dist-packages (from tensorflow->-r /content/drive/MyDrive/TSB-UAD-main/requirements.txt (line 16)) (3.3.0)\n",
            "Collecting numpy>=1.13.3\n",
            "  Downloading numpy-1.21.5-cp37-cp37m-manylinux_2_12_x86_64.manylinux2010_x86_64.whl (15.7 MB)\n",
            "\u001b[K     |████████████████████████████████| 15.7 MB 315 kB/s \n",
            "\u001b[?25hRequirement already satisfied: flatbuffers>=1.12 in /usr/local/lib/python3.7/dist-packages (from tensorflow->-r /content/drive/MyDrive/TSB-UAD-main/requirements.txt (line 16)) (2.0)\n",
            "Installing collected packages: six, numpy, locket, tensorboard-plugin-wit, scipy, protobuf, partd, fsspec, cloudpickle, tf-estimator-nightly, tensorboard, stumpy, statsmodels, property-cached, matrixprofile, keras, distributed, tslearn, tsfresh, tensorflow-estimator, tensorflow, pmdarima, hurst, arch\n",
            "  Attempting uninstall: six\n",
            "    Found existing installation: six 1.15.0\n",
            "    Uninstalling six-1.15.0:\n",
            "      Successfully uninstalled six-1.15.0\n",
            "  Attempting uninstall: numpy\n",
            "    Found existing installation: numpy 1.19.5\n",
            "    Uninstalling numpy-1.19.5:\n",
            "      Successfully uninstalled numpy-1.19.5\n",
            "  Attempting uninstall: tensorboard-plugin-wit\n",
            "    Found existing installation: tensorboard-plugin-wit 1.8.1\n",
            "    Uninstalling tensorboard-plugin-wit-1.8.1:\n",
            "      Successfully uninstalled tensorboard-plugin-wit-1.8.1\n",
            "  Attempting uninstall: scipy\n",
            "    Found existing installation: scipy 1.4.1\n",
            "    Uninstalling scipy-1.4.1:\n",
            "      Successfully uninstalled scipy-1.4.1\n",
            "  Attempting uninstall: protobuf\n",
            "    Found existing installation: protobuf 3.17.3\n",
            "    Uninstalling protobuf-3.17.3:\n",
            "      Successfully uninstalled protobuf-3.17.3\n",
            "  Attempting uninstall: cloudpickle\n",
            "    Found existing installation: cloudpickle 1.3.0\n",
            "    Uninstalling cloudpickle-1.3.0:\n",
            "      Successfully uninstalled cloudpickle-1.3.0\n",
            "  Attempting uninstall: tensorboard\n",
            "    Found existing installation: tensorboard 2.7.0\n",
            "    Uninstalling tensorboard-2.7.0:\n",
            "      Successfully uninstalled tensorboard-2.7.0\n",
            "  Attempting uninstall: statsmodels\n",
            "    Found existing installation: statsmodels 0.10.2\n",
            "    Uninstalling statsmodels-0.10.2:\n",
            "      Successfully uninstalled statsmodels-0.10.2\n",
            "  Attempting uninstall: keras\n",
            "    Found existing installation: keras 2.7.0\n",
            "    Uninstalling keras-2.7.0:\n",
            "      Successfully uninstalled keras-2.7.0\n",
            "  Attempting uninstall: distributed\n",
            "    Found existing installation: distributed 1.25.3\n",
            "    Uninstalling distributed-1.25.3:\n",
            "      Successfully uninstalled distributed-1.25.3\n",
            "  Attempting uninstall: tensorflow-estimator\n",
            "    Found existing installation: tensorflow-estimator 2.7.0\n",
            "    Uninstalling tensorflow-estimator-2.7.0:\n",
            "      Successfully uninstalled tensorflow-estimator-2.7.0\n",
            "  Attempting uninstall: tensorflow\n",
            "    Found existing installation: tensorflow 2.7.0\n",
            "    Uninstalling tensorflow-2.7.0:\n",
            "      Successfully uninstalled tensorflow-2.7.0\n",
            "\u001b[31mERROR: pip's dependency resolver does not currently take into account all the packages that are installed. This behaviour is the source of the following dependency conflicts.\n",
            "yellowbrick 1.3.post1 requires numpy<1.20,>=1.16.0, but you have numpy 1.21.5 which is incompatible.\n",
            "tensorflow-metadata 1.6.0 requires protobuf<4,>=3.13, but you have protobuf 3.11.2 which is incompatible.\n",
            "imbalanced-learn 0.8.1 requires scikit-learn>=0.24, but you have scikit-learn 0.23.0 which is incompatible.\n",
            "gym 0.17.3 requires cloudpickle<1.7.0,>=1.2.0, but you have cloudpickle 2.0.0 which is incompatible.\n",
            "googleapis-common-protos 1.54.0 requires protobuf>=3.12.0, but you have protobuf 3.11.2 which is incompatible.\n",
            "google-colab 1.0.0 requires six~=1.15.0, but you have six 1.16.0 which is incompatible.\n",
            "google-api-core 1.26.3 requires protobuf>=3.12.0, but you have protobuf 3.11.2 which is incompatible.\n",
            "datascience 0.10.6 requires folium==0.2.1, but you have folium 0.8.3 which is incompatible.\n",
            "albumentations 0.1.12 requires imgaug<0.2.7,>=0.2.5, but you have imgaug 0.2.9 which is incompatible.\u001b[0m\n",
            "Successfully installed arch-5.1.0 cloudpickle-2.0.0 distributed-2.30.1 fsspec-2022.1.0 hurst-0.0.5 keras-2.8.0 locket-0.2.1 matrixprofile-1.1.10 numpy-1.21.5 partd-1.2.0 pmdarima-1.8.4 property-cached-1.6.4 protobuf-3.11.2 scipy-1.7.3 six-1.16.0 statsmodels-0.13.1 stumpy-1.10.2 tensorboard-2.8.0 tensorboard-plugin-wit-1.8.0 tensorflow-2.8.0 tensorflow-estimator-2.3.0 tf-estimator-nightly-2.8.0.dev2021122109 tsfresh-0.18.0 tslearn-0.5.1.0\n"
          ]
        },
        {
          "data": {
            "application/vnd.colab-display-data+json": {
              "pip_warning": {
                "packages": [
                  "cloudpickle",
                  "google",
                  "numpy",
                  "six"
                ]
              }
            }
          },
          "metadata": {},
          "output_type": "display_data"
        }
      ],
      "source": [
        "pip install -r /content/drive/MyDrive/TSB-UAD-main/requirements.txt\n"
      ]
    },
    {
      "cell_type": "code",
      "execution_count": null,
      "metadata": {
        "id": "ZWi8G6Xq8_VD"
      },
      "outputs": [],
      "source": [
        "import numpy as np\n",
        "import math\n",
        "import matplotlib.pyplot as plt\n",
        "import pandas as pd\n",
        "from TSB_AD.models.distance import Fourier\n",
        "from TSB_AD.models.feature import Window\n",
        "from TSB_AD.utils.slidingWindows import find_length,plotFig\n",
        "from sklearn.preprocessing import MinMaxScaler\n"
      ]
    },
    {
      "cell_type": "code",
      "execution_count": null,
      "metadata": {
        "id": "5rQHsXitBuZt"
      },
      "outputs": [],
      "source": [
        ""
      ]
    },
    {
      "cell_type": "code",
      "execution_count": null,
      "metadata": {
        "id": "ZVtEYZbjKnSq"
      },
      "outputs": [],
      "source": [
        "from TSB_AD.models.lof import LOF\n"
      ]
    },
    {
      "cell_type": "code",
      "source": [
        "results = []\n"
      ],
      "metadata": {
        "id": "ZOhhOPsKpCC0"
      },
      "execution_count": null,
      "outputs": []
    },
    {
      "cell_type": "code",
      "execution_count": null,
      "metadata": {
        "colab": {
          "background_save": true,
          "base_uri": "https://localhost:8080/"
        },
        "id": "dDP11m9aKrXq",
        "outputId": "8c7bff5f-9b0b-47f1-c906-a76004b06605"
      },
      "outputs": [
        {
          "name": "stdout",
          "output_type": "stream",
          "text": [
            "[1990. 1996. 1958. ... 1506. 1484. 1473.]\n",
            "204\n",
            "[1990. 1996. 1958. ... 1506. 1484. 1473.]\n",
            "14993\n",
            "[1993. 2010. 1948. ... 1506. 1484. 1473.]\n",
            "205\n",
            "[1993. 2010. 1948. ... 1506. 1484. 1473.]\n",
            "28986\n",
            "[7716. 7573. 7409. ... 8075. 7880. 7729.]\n",
            "206\n",
            "[7716. 7573. 7409. ... 8075. 7880. 7729.]\n",
            "26125\n",
            "[1404. 1364. 1305. ... 1533. 1480. 1461.]\n",
            "207\n",
            "[1404. 1364. 1305. ... 1533. 1480. 1461.]\n",
            "26968\n",
            "[-708. -715. -679. ... -647. -645. -620.]\n",
            "208\n",
            "[-708. -715. -679. ... -647. -645. -620.]\n",
            "27955\n",
            "[-0.48 -0.51 -0.09 ... -0.05 -0.02  0.  ]\n",
            "228\n",
            "[-0.48 -0.51 -0.09 ... -0.05 -0.02  0.  ]\n",
            "30136\n",
            "[ 0.13  0.13  0.16 ... -0.07 -0.01 -0.03]\n",
            "230\n",
            "[ 0.13  0.13  0.16 ... -0.07 -0.01 -0.03]\n",
            "39158\n",
            "[-0.03  0.02  0.14 ...  0.65  0.66  0.62]\n",
            "231\n",
            "[-0.03  0.02  0.14 ...  0.65  0.66  0.62]\n",
            "48963\n",
            "[-0.03  0.02  0.14 ...  0.65  0.66  0.62]\n",
            "232\n",
            "[-0.03  0.02  0.14 ...  0.65  0.66  0.62]\n",
            "48963\n",
            "[0.02       0.02333333 0.01666667 ... 0.20666667 0.22333333 0.24      ]\n",
            "233\n",
            "[0.02       0.02333333 0.01666667 ... 0.20666667 0.22333333 0.24      ]\n",
            "24455\n",
            "[0.145      0.14333333 0.14666667 ... 2.04       1.56       1.355     ]\n",
            "234\n",
            "[0.145      0.14333333 0.14666667 ... 2.04       1.56       1.355     ]\n",
            "24588\n",
            "[0.06       0.05       0.03666667 ... 0.1        0.09666667 0.09      ]\n",
            "235\n",
            "[0.06       0.05       0.03666667 ... 0.1        0.09666667 0.09      ]\n",
            "90664\n",
            "[-0.215      -0.21333333 -0.19666667 ...  0.12333333  0.11\n",
            "  0.1       ]\n",
            "237\n",
            "[-0.215      -0.21333333 -0.19666667 ...  0.12333333  0.11\n",
            "  0.1       ]\n",
            "54802\n",
            "[ 0.065       0.04666667  0.03333333 ... -0.06666667 -0.08333333\n",
            " -0.085     ]\n",
            "238\n",
            "[ 0.065       0.04666667  0.03333333 ... -0.06666667 -0.08333333\n",
            " -0.085     ]\n",
            "30592\n",
            "[-2047. -2047. -2047. ... -2047. -2047. -2047.]\n",
            "239\n",
            "[-2047. -2047. -2047. ... -2047. -2047. -2047.]\n"
          ]
        }
      ],
      "source": [
        "for txt_filepath in sorted(txt_dirpath.iterdir()):\n",
        "    number = txt_filepath.stem.split('_')[0]\n",
        "    number=int(number)\n",
        "    X = np.loadtxt(txt_filepath)\n",
        "    print(X)\n",
        "\n",
        "    print(number)\n",
        "    split = int(txt_filepath.stem.split('_')[-1])\n",
        "    df=X\n",
        "    max_length = len(X)\n",
        "    data = df[:max_length].astype(float)\n",
        "    print(data)\n",
        "\n",
        "    slidingWindow = find_length(data)\n",
        "    X_data = Window(window = slidingWindow).convert(data).to_numpy()\n",
        "\n",
        "\n",
        "\n",
        "    data_train = data[:split]\n",
        "    data_test = data[split:]\n",
        "\n",
        "\n",
        "\n",
        "    modelName='LOF'\n",
        "    clf = LOF(n_neighbors=20, n_jobs=1)\n",
        "    x = X_data\n",
        "    clf.fit(x)\n",
        "    score = clf.decision_scores_\n",
        "    score = MinMaxScaler(feature_range=(0,1)).fit_transform(score.reshape(-1,1)).ravel()\n",
        "    score = np.array([score[0]]*math.ceil((slidingWindow-1)/2) + list(score) + [score[-1]]*((slidingWindow-1)//2))\n",
        "    index1=np.argmax(score[split:])+split\n",
        "    print(index1)\n",
        "    results.append([number,index1, score])\n"
      ]
    },
    {
      "cell_type": "code",
      "execution_count": null,
      "metadata": {
        "id": "5Gxk169nFVIH"
      },
      "outputs": [],
      "source": [
        "results"
      ]
    },
    {
      "cell_type": "code",
      "execution_count": null,
      "metadata": {
        "id": "_VKh3MHwHk4c"
      },
      "outputs": [],
      "source": [
        "results.to_csv('/content/drive/MyDrive/TSB-UAD-main/lof1.csv') "
      ]
    },
    {
      "cell_type": "code",
      "execution_count": null,
      "metadata": {
        "id": "VhBoUM6aCTjC"
      },
      "outputs": [],
      "source": [
        "results = pd.DataFrame(results, columns=['number','index1','score'])\n"
      ]
    },
    {
      "cell_type": "code",
      "execution_count": null,
      "metadata": {
        "id": "VUu6mgfBIsEU"
      },
      "outputs": [],
      "source": [
        "res=results"
      ]
    },
    {
      "cell_type": "code",
      "execution_count": null,
      "metadata": {
        "id": "4LspVoEFIi7E"
      },
      "outputs": [],
      "source": [
        "listdone=res['number'].tolist()"
      ]
    },
    {
      "cell_type": "code",
      "execution_count": null,
      "metadata": {
        "id": "qA1ofPZLCHYQ"
      },
      "outputs": [],
      "source": [
        "results['number'] = results['number'].astype(int)\n"
      ]
    },
    {
      "cell_type": "code",
      "execution_count": null,
      "metadata": {
        "id": "i2MabJZjC1RZ"
      },
      "outputs": [],
      "source": [
        "results1 = pd.read_csv('drive/MyDrive/metadata.csv')"
      ]
    },
    {
      "cell_type": "code",
      "execution_count": null,
      "metadata": {
        "id": "NHmfz5UHC8Zp"
      },
      "outputs": [],
      "source": [
        "df2=results1"
      ]
    },
    {
      "cell_type": "code",
      "execution_count": null,
      "metadata": {
        "id": "gJoNATP4C5FJ"
      },
      "outputs": [],
      "source": [
        "df1=results"
      ]
    },
    {
      "cell_type": "code",
      "execution_count": null,
      "metadata": {
        "id": "1cMy_6EfDDE2"
      },
      "outputs": [],
      "source": [
        "df1 = df1.set_index('number')\n",
        "df1.index = pd.to_numeric(df1.index, errors='coerce')\n",
        "df2 = results1.set_index('data_id')\n",
        "eval = df1.join(df2).reset_index()"
      ]
    },
    {
      "cell_type": "code",
      "execution_count": null,
      "metadata": {
        "id": "iiTVM6-_DFJb"
      },
      "outputs": [],
      "source": [
        "eval"
      ]
    },
    {
      "cell_type": "code",
      "execution_count": null,
      "metadata": {
        "id": "EbZd8wDHDWTA"
      },
      "outputs": [],
      "source": [
        "for i in range (len(eval)):\n",
        "    if eval.loc[i,'anomaly_start'] <= eval.loc[i,'index1'] and eval.loc[i,'index1'] <= eval.loc[i,'anomaly_end']:\n",
        "        eval.loc[i,'algo_eval'] = True  \n",
        "\n",
        "    else:\n",
        "        eval.loc[i,'algo_eval'] = False"
      ]
    },
    {
      "cell_type": "code",
      "execution_count": null,
      "metadata": {
        "id": "3XAUszkb7X2E"
      },
      "outputs": [],
      "source": [
        "eval"
      ]
    },
    {
      "cell_type": "code",
      "execution_count": null,
      "metadata": {
        "id": "vteLEbCiNtuH"
      },
      "outputs": [],
      "source": [
        "eval[\"algo_eval\"].value_counts()"
      ]
    },
    {
      "cell_type": "code",
      "execution_count": null,
      "metadata": {
        "id": "0fGuMDGlBNdt"
      },
      "outputs": [],
      "source": [
        ""
      ]
    }
  ],
  "metadata": {
    "colab": {
      "collapsed_sections": [],
      "name": "Untitled23.ipynb",
      "provenance": []
    },
    "kernelspec": {
      "display_name": "Python 3",
      "name": "python3"
    },
    "language_info": {
      "name": "python"
    }
  },
  "nbformat": 4,
  "nbformat_minor": 0
}